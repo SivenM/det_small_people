{
 "cells": [
  {
   "cell_type": "code",
   "execution_count": 1,
   "metadata": {},
   "outputs": [],
   "source": [
    "import torch\n",
    "from scipy.optimize import linear_sum_assignment"
   ]
  },
  {
   "cell_type": "code",
   "execution_count": 2,
   "metadata": {},
   "outputs": [],
   "source": [
    "out_box = torch.ones((5*100, 4))\n",
    "out_box[:30] *= 5.\n",
    "target_box = torch.ones((5*25, 4)) * 5."
   ]
  },
  {
   "cell_type": "code",
   "execution_count": 3,
   "metadata": {},
   "outputs": [
    {
     "data": {
      "text/plain": [
       "torch.Size([500, 2])"
      ]
     },
     "execution_count": 3,
     "metadata": {},
     "output_type": "execute_result"
    }
   ],
   "source": [
    "out_cls = torch.randn((5*100, 2)).softmax(-1)\n",
    "target_cls = torch.ones((5*25), dtype=torch.int)\n",
    "out_cls.shape"
   ]
  },
  {
   "cell_type": "code",
   "execution_count": 4,
   "metadata": {},
   "outputs": [
    {
     "data": {
      "text/plain": [
       "torch.Size([500, 4])"
      ]
     },
     "execution_count": 4,
     "metadata": {},
     "output_type": "execute_result"
    }
   ],
   "source": [
    "out_box.shape"
   ]
  },
  {
   "cell_type": "code",
   "execution_count": 5,
   "metadata": {},
   "outputs": [
    {
     "data": {
      "text/plain": [
       "torch.Size([500, 125])"
      ]
     },
     "execution_count": 5,
     "metadata": {},
     "output_type": "execute_result"
    }
   ],
   "source": [
    "cost_bbox = torch.cdist(out_box, target_box, p=1)\n",
    "cost_bbox.shape"
   ]
  },
  {
   "cell_type": "code",
   "execution_count": 6,
   "metadata": {},
   "outputs": [
    {
     "data": {
      "text/plain": [
       "torch.Size([500, 125])"
      ]
     },
     "execution_count": 6,
     "metadata": {},
     "output_type": "execute_result"
    }
   ],
   "source": [
    "cost_class = -out_cls[:, target_cls]\n",
    "cost_class.shape"
   ]
  },
  {
   "cell_type": "code",
   "execution_count": 7,
   "metadata": {},
   "outputs": [
    {
     "name": "stdout",
     "output_type": "stream",
     "text": [
      "cost_box: torch.Size([500, 125])\n",
      "cost_class: torch.Size([500, 125])\n"
     ]
    }
   ],
   "source": [
    "print(f\"cost_box: {cost_bbox.shape}\\ncost_class: {cost_class.shape}\")"
   ]
  },
  {
   "cell_type": "code",
   "execution_count": 8,
   "metadata": {},
   "outputs": [
    {
     "data": {
      "text/plain": [
       "torch.Size([500, 125])"
      ]
     },
     "execution_count": 8,
     "metadata": {},
     "output_type": "execute_result"
    }
   ],
   "source": [
    "C = cost_class + cost_bbox\n",
    "C.shape"
   ]
  },
  {
   "cell_type": "code",
   "execution_count": 9,
   "metadata": {},
   "outputs": [
    {
     "data": {
      "text/plain": [
       "torch.Size([5, 100, 125])"
      ]
     },
     "execution_count": 9,
     "metadata": {},
     "output_type": "execute_result"
    }
   ],
   "source": [
    "C = cost_class + cost_bbox\n",
    "C = C.view(5, 100, -1)\n",
    "C.shape"
   ]
  },
  {
   "cell_type": "code",
   "execution_count": 10,
   "metadata": {},
   "outputs": [
    {
     "data": {
      "text/plain": [
       "5"
      ]
     },
     "execution_count": 10,
     "metadata": {},
     "output_type": "execute_result"
    }
   ],
   "source": [
    "len(torch.randn((5,4)))"
   ]
  },
  {
   "cell_type": "code",
   "execution_count": 11,
   "metadata": {},
   "outputs": [],
   "source": [
    "sizes = [25 for _ in range(5)]\n",
    "indices = [linear_sum_assignment(c[i]) for i, c in enumerate(C.split(sizes, -1))]"
   ]
  },
  {
   "cell_type": "code",
   "execution_count": 12,
   "metadata": {},
   "outputs": [],
   "source": [
    "out = [(torch.as_tensor(i, dtype=torch.int64), torch.as_tensor(j, dtype=torch.int64)) for i, j in indices]"
   ]
  },
  {
   "cell_type": "code",
   "execution_count": 13,
   "metadata": {},
   "outputs": [
    {
     "data": {
      "text/plain": [
       "(tensor([ 0,  1,  2,  3,  4,  5,  8, 10, 11, 12, 13, 14, 15, 16, 17, 18, 20, 21,\n",
       "         22, 23, 24, 25, 26, 27, 28]),\n",
       " tensor([ 4,  0, 23, 21,  9, 19,  3, 13, 24,  5,  7, 17, 22,  2,  8, 15,  6, 11,\n",
       "         12, 10, 18,  1, 20, 14, 16]))"
      ]
     },
     "execution_count": 13,
     "metadata": {},
     "output_type": "execute_result"
    }
   ],
   "source": [
    "out[0]"
   ]
  },
  {
   "cell_type": "code",
   "execution_count": 14,
   "metadata": {},
   "outputs": [
    {
     "name": "stdout",
     "output_type": "stream",
     "text": [
      "tensor([0, 0, 0, 0, 0, 0, 0, 0, 0, 0, 0, 0, 0, 0, 0, 0, 0, 0, 0, 0, 0, 0, 0, 0,\n",
      "        0, 1, 1, 1, 1, 1, 1, 1, 1, 1, 1, 1, 1, 1, 1, 1, 1, 1, 1, 1, 1, 1, 1, 1,\n",
      "        1, 1, 2, 2, 2, 2, 2, 2, 2, 2, 2, 2, 2, 2, 2, 2, 2, 2, 2, 2, 2, 2, 2, 2,\n",
      "        2, 2, 2, 3, 3, 3, 3, 3, 3, 3, 3, 3, 3, 3, 3, 3, 3, 3, 3, 3, 3, 3, 3, 3,\n",
      "        3, 3, 3, 3, 4, 4, 4, 4, 4, 4, 4, 4, 4, 4, 4, 4, 4, 4, 4, 4, 4, 4, 4, 4,\n",
      "        4, 4, 4, 4, 4])\n",
      "torch.Size([125])\n"
     ]
    }
   ],
   "source": [
    "batch_idx = torch.cat([torch.full_like(src, i) for i, (src, _) in enumerate(out)])\n",
    "print(f'{batch_idx}\\n{batch_idx.shape}') "
   ]
  },
  {
   "cell_type": "code",
   "execution_count": 20,
   "metadata": {},
   "outputs": [
    {
     "name": "stdout",
     "output_type": "stream",
     "text": [
      "torch.Size([25])\n",
      "tensor([ 0,  1,  2,  3,  4,  5,  8, 10, 11, 12, 13, 14, 15, 16, 17, 18, 20, 21,\n",
      "        22, 23, 24, 25, 26, 27, 28])\n"
     ]
    }
   ],
   "source": [
    "i = 0\n",
    "src = out[0][0]\n",
    "print(f'{src.shape}\\n{src}')"
   ]
  },
  {
   "cell_type": "code",
   "execution_count": 21,
   "metadata": {},
   "outputs": [
    {
     "data": {
      "text/plain": [
       "tensor([0, 0, 0, 0, 0, 0, 0, 0, 0, 0, 0, 0, 0, 0, 0, 0, 0, 0, 0, 0, 0, 0, 0, 0,\n",
       "        0])"
      ]
     },
     "execution_count": 21,
     "metadata": {},
     "output_type": "execute_result"
    }
   ],
   "source": [
    "torch.full_like(src, i)"
   ]
  },
  {
   "cell_type": "code",
   "execution_count": 15,
   "metadata": {},
   "outputs": [
    {
     "name": "stdout",
     "output_type": "stream",
     "text": [
      "tensor([ 0,  1,  2,  3,  4,  5,  8, 10, 11, 12, 13, 14, 15, 16, 17, 18, 20, 21,\n",
      "        22, 23, 24, 25, 26, 27, 28,  0,  2,  3, 12, 15, 17, 20, 22, 25, 36, 37,\n",
      "        38, 41, 50, 52, 60, 62, 63, 69, 71, 73, 74, 78, 86, 94,  3,  6, 20, 21,\n",
      "        23, 27, 30, 35, 39, 46, 52, 53, 54, 56, 58, 62, 66, 67, 74, 75, 76, 79,\n",
      "        89, 93, 95,  1,  6,  7, 16, 17, 18, 21, 24, 35, 41, 44, 48, 49, 51, 52,\n",
      "        53, 55, 60, 72, 75, 76, 80, 87, 92, 95,  1,  4, 11, 12, 17, 18, 25, 29,\n",
      "        36, 40, 44, 48, 51, 64, 68, 71, 72, 73, 75, 78, 84, 86, 89, 90, 96])\n",
      "torch.Size([125])\n"
     ]
    }
   ],
   "source": [
    "src_idx = torch.cat([src for (src, _) in out])\n",
    "print(f'{src_idx}\\n{src_idx.shape}')"
   ]
  },
  {
   "cell_type": "code",
   "execution_count": 35,
   "metadata": {},
   "outputs": [],
   "source": [
    "out_bbox = torch.randn((5,100,4))\n",
    "t_bbox = torch.randn((5, 25, 4))"
   ]
  },
  {
   "cell_type": "code",
   "execution_count": 36,
   "metadata": {},
   "outputs": [],
   "source": [
    "src_bbox = out_bbox[(batch_idx, src_idx)]\n",
    "target_bbox = torch.cat([t[i] for t, (_, i) in zip(t_bbox, out)], dim=0)"
   ]
  },
  {
   "cell_type": "code",
   "execution_count": 33,
   "metadata": {},
   "outputs": [
    {
     "data": {
      "text/plain": [
       "torch.Size([125, 4])"
      ]
     },
     "execution_count": 33,
     "metadata": {},
     "output_type": "execute_result"
    }
   ],
   "source": [
    "src_bbox.shape"
   ]
  },
  {
   "cell_type": "code",
   "execution_count": 38,
   "metadata": {},
   "outputs": [
    {
     "data": {
      "text/plain": [
       "torch.Size([125, 4])"
      ]
     },
     "execution_count": 38,
     "metadata": {},
     "output_type": "execute_result"
    }
   ],
   "source": [
    "target_bbox.shape"
   ]
  },
  {
   "cell_type": "code",
   "execution_count": 39,
   "metadata": {},
   "outputs": [],
   "source": [
    "loss = torch.nn.functional.l1_loss(src_bbox, target_bbox, reduction='none')"
   ]
  },
  {
   "cell_type": "code",
   "execution_count": 43,
   "metadata": {},
   "outputs": [
    {
     "data": {
      "text/plain": [
       "tensor(23.5530)"
      ]
     },
     "execution_count": 43,
     "metadata": {},
     "output_type": "execute_result"
    }
   ],
   "source": [
    "loss.sum() / 25"
   ]
  }
 ],
 "metadata": {
  "kernelspec": {
   "display_name": "vid_pred",
   "language": "python",
   "name": "python3"
  },
  "language_info": {
   "codemirror_mode": {
    "name": "ipython",
    "version": 3
   },
   "file_extension": ".py",
   "mimetype": "text/x-python",
   "name": "python",
   "nbconvert_exporter": "python",
   "pygments_lexer": "ipython3",
   "version": "3.12.3"
  }
 },
 "nbformat": 4,
 "nbformat_minor": 2
}
