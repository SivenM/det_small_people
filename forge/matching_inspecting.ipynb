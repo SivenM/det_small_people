{
 "cells": [
  {
   "cell_type": "code",
   "execution_count": 75,
   "metadata": {},
   "outputs": [],
   "source": [
    "import torch\n",
    "from scipy.optimize import linear_sum_assignment"
   ]
  },
  {
   "cell_type": "code",
   "execution_count": 22,
   "metadata": {},
   "outputs": [],
   "source": [
    "out_box = torch.ones((100, 4))\n",
    "out_box[:30] *= 5.\n",
    "target_box = torch.ones((25, 4)) * 5."
   ]
  },
  {
   "cell_type": "code",
   "execution_count": 23,
   "metadata": {},
   "outputs": [
    {
     "data": {
      "text/plain": [
       "torch.Size([100, 4])"
      ]
     },
     "execution_count": 23,
     "metadata": {},
     "output_type": "execute_result"
    }
   ],
   "source": [
    "out_box.shape"
   ]
  },
  {
   "cell_type": "code",
   "execution_count": 24,
   "metadata": {},
   "outputs": [
    {
     "data": {
      "text/plain": [
       "torch.Size([100, 25])"
      ]
     },
     "execution_count": 24,
     "metadata": {},
     "output_type": "execute_result"
    }
   ],
   "source": [
    "cost_bbox = torch.cdist(out_box, target_box, p=1)\n",
    "cost_bbox.shape"
   ]
  },
  {
   "cell_type": "code",
   "execution_count": 25,
   "metadata": {},
   "outputs": [],
   "source": [
    "out_cls = torch.randn((100, 2)).softmax(-1)\n",
    "target_cls = torch.ones((25), dtype=torch.int)"
   ]
  },
  {
   "cell_type": "code",
   "execution_count": 26,
   "metadata": {},
   "outputs": [
    {
     "data": {
      "text/plain": [
       "torch.Size([100, 25])"
      ]
     },
     "execution_count": 26,
     "metadata": {},
     "output_type": "execute_result"
    }
   ],
   "source": [
    "cost_class = -out_cls[:, target_cls]\n",
    "cost_class.shape"
   ]
  },
  {
   "cell_type": "code",
   "execution_count": 27,
   "metadata": {},
   "outputs": [
    {
     "name": "stdout",
     "output_type": "stream",
     "text": [
      "cost_box: torch.Size([100, 25])\n",
      "cost_class: torch.Size([100, 25])\n"
     ]
    }
   ],
   "source": [
    "print(f\"cost_box: {cost_bbox.shape}\\ncost_class: {cost_class.shape}\")"
   ]
  },
  {
   "cell_type": "code",
   "execution_count": 28,
   "metadata": {},
   "outputs": [],
   "source": [
    "C = cost_class + cost_bbox"
   ]
  },
  {
   "cell_type": "code",
   "execution_count": 87,
   "metadata": {},
   "outputs": [
    {
     "data": {
      "text/plain": [
       "torch.Size([1, 100, 25])"
      ]
     },
     "execution_count": 87,
     "metadata": {},
     "output_type": "execute_result"
    }
   ],
   "source": [
    "C = cost_class + cost_bbox\n",
    "C = C.view(1, 100, -1)\n",
    "C.shape"
   ]
  },
  {
   "cell_type": "code",
   "execution_count": 80,
   "metadata": {},
   "outputs": [
    {
     "data": {
      "text/plain": [
       "1"
      ]
     },
     "execution_count": 80,
     "metadata": {},
     "output_type": "execute_result"
    }
   ],
   "source": [
    "len(C)"
   ]
  },
  {
   "cell_type": "code",
   "execution_count": 81,
   "metadata": {},
   "outputs": [],
   "source": [
    "sizes = [1 for _ in range(25)]"
   ]
  },
  {
   "cell_type": "code",
   "execution_count": 82,
   "metadata": {},
   "outputs": [],
   "source": [
    "c_splitted = C.split(sizes, -1)"
   ]
  },
  {
   "cell_type": "code",
   "execution_count": 83,
   "metadata": {},
   "outputs": [
    {
     "data": {
      "text/plain": [
       "torch.Size([1, 100, 1])"
      ]
     },
     "execution_count": 83,
     "metadata": {},
     "output_type": "execute_result"
    }
   ],
   "source": [
    "c_splitted[0].shape"
   ]
  },
  {
   "cell_type": "code",
   "execution_count": 90,
   "metadata": {},
   "outputs": [
    {
     "data": {
      "text/plain": [
       "(array([ 1,  2,  3,  4,  5,  6,  7,  9, 11, 12, 13, 14, 16, 17, 18, 19, 21,\n",
       "        22, 23, 24, 25, 26, 27, 28, 29]),\n",
       " array([10, 24, 21,  7, 14,  6, 15, 11,  5,  1, 17,  8, 13,  9, 16,  4, 20,\n",
       "         0, 22, 12,  2,  3, 19, 18, 23]))"
      ]
     },
     "execution_count": 90,
     "metadata": {},
     "output_type": "execute_result"
    }
   ],
   "source": [
    "linear_sum_assignment(C[0])"
   ]
  },
  {
   "cell_type": "code",
   "execution_count": 93,
   "metadata": {},
   "outputs": [
    {
     "name": "stdout",
     "output_type": "stream",
     "text": [
      "0 | torch.Size([100, 25])\n"
     ]
    }
   ],
   "source": [
    "big_batch = torch.randn((1, 100, 25))\n",
    "for i, c in enumerate(big_batch):\n",
    "    print(f'{i} | {c.shape}')"
   ]
  },
  {
   "cell_type": "code",
   "execution_count": 89,
   "metadata": {},
   "outputs": [
    {
     "name": "stdout",
     "output_type": "stream",
     "text": [
      "0 | torch.Size([1, 100, 1])\n",
      "1 | torch.Size([1, 100, 1])\n",
      "2 | torch.Size([1, 100, 1])\n",
      "3 | torch.Size([1, 100, 1])\n",
      "4 | torch.Size([1, 100, 1])\n",
      "5 | torch.Size([1, 100, 1])\n",
      "6 | torch.Size([1, 100, 1])\n",
      "7 | torch.Size([1, 100, 1])\n",
      "8 | torch.Size([1, 100, 1])\n",
      "9 | torch.Size([1, 100, 1])\n",
      "10 | torch.Size([1, 100, 1])\n",
      "11 | torch.Size([1, 100, 1])\n",
      "12 | torch.Size([1, 100, 1])\n",
      "13 | torch.Size([1, 100, 1])\n",
      "14 | torch.Size([1, 100, 1])\n",
      "15 | torch.Size([1, 100, 1])\n",
      "16 | torch.Size([1, 100, 1])\n",
      "17 | torch.Size([1, 100, 1])\n",
      "18 | torch.Size([1, 100, 1])\n",
      "19 | torch.Size([1, 100, 1])\n",
      "20 | torch.Size([1, 100, 1])\n",
      "21 | torch.Size([1, 100, 1])\n",
      "22 | torch.Size([1, 100, 1])\n",
      "23 | torch.Size([1, 100, 1])\n",
      "24 | torch.Size([1, 100, 1])\n"
     ]
    }
   ],
   "source": [
    "for i, c in enumerate(C.split(sizes, -1)):\n",
    "    print(f'{i} | {c.shape}')\n",
    "    #linear_sum_assignment(c[i])"
   ]
  },
  {
   "cell_type": "code",
   "execution_count": 76,
   "metadata": {},
   "outputs": [
    {
     "data": {
      "text/plain": [
       "(array([22]), array([0]))"
      ]
     },
     "execution_count": 76,
     "metadata": {},
     "output_type": "execute_result"
    }
   ],
   "source": [
    "linear_sum_assignment(c_splitted[0])"
   ]
  },
  {
   "cell_type": "code",
   "execution_count": 64,
   "metadata": {},
   "outputs": [
    {
     "data": {
      "text/plain": [
       "25"
      ]
     },
     "execution_count": 64,
     "metadata": {},
     "output_type": "execute_result"
    }
   ],
   "source": [
    "len(C.split(sizes, -1))"
   ]
  },
  {
   "cell_type": "code",
   "execution_count": 65,
   "metadata": {},
   "outputs": [
    {
     "data": {
      "text/plain": [
       "torch.Size([1, 100, 25])"
      ]
     },
     "execution_count": 65,
     "metadata": {},
     "output_type": "execute_result"
    }
   ],
   "source": [
    "C.shape"
   ]
  },
  {
   "cell_type": "code",
   "execution_count": 35,
   "metadata": {},
   "outputs": [
    {
     "data": {
      "text/plain": [
       "100"
      ]
     },
     "execution_count": 35,
     "metadata": {},
     "output_type": "execute_result"
    }
   ],
   "source": [
    "len(sizes)"
   ]
  },
  {
   "cell_type": "code",
   "execution_count": 38,
   "metadata": {},
   "outputs": [],
   "source": [
    "a = torch.cat([torch.tensor([[1,2,3,4]]), torch.tensor([[1,2,3,4]])])"
   ]
  },
  {
   "cell_type": "code",
   "execution_count": 39,
   "metadata": {},
   "outputs": [
    {
     "data": {
      "text/plain": [
       "torch.Size([2, 4])"
      ]
     },
     "execution_count": 39,
     "metadata": {},
     "output_type": "execute_result"
    }
   ],
   "source": [
    "a.shape"
   ]
  },
  {
   "cell_type": "code",
   "execution_count": 77,
   "metadata": {},
   "outputs": [
    {
     "ename": "ValueError",
     "evalue": "expected a matrix (2-D array), got a 1 array",
     "output_type": "error",
     "traceback": [
      "\u001b[0;31m---------------------------------------------------------------------------\u001b[0m",
      "\u001b[0;31mValueError\u001b[0m                                Traceback (most recent call last)",
      "Cell \u001b[0;32mIn[77], line 1\u001b[0m\n\u001b[0;32m----> 1\u001b[0m indices \u001b[38;5;241m=\u001b[39m [\u001b[43mlinear_sum_assignment\u001b[49m\u001b[43m(\u001b[49m\u001b[43mc\u001b[49m\u001b[43m[\u001b[49m\u001b[43mi\u001b[49m\u001b[43m]\u001b[49m\u001b[43m)\u001b[49m \u001b[38;5;28;01mfor\u001b[39;00m i, c \u001b[38;5;129;01min\u001b[39;00m \u001b[38;5;28menumerate\u001b[39m(c_splitted)]\n\u001b[1;32m      2\u001b[0m indices\n",
      "\u001b[0;31mValueError\u001b[0m: expected a matrix (2-D array), got a 1 array"
     ]
    }
   ],
   "source": [
    "indices = [linear_sum_assignment(c[i]) for i, c in enumerate(c_splitted)]\n",
    "indices"
   ]
  }
 ],
 "metadata": {
  "kernelspec": {
   "display_name": "vid_pred",
   "language": "python",
   "name": "python3"
  },
  "language_info": {
   "codemirror_mode": {
    "name": "ipython",
    "version": 3
   },
   "file_extension": ".py",
   "mimetype": "text/x-python",
   "name": "python",
   "nbconvert_exporter": "python",
   "pygments_lexer": "ipython3",
   "version": "3.12.3"
  }
 },
 "nbformat": 4,
 "nbformat_minor": 2
}
